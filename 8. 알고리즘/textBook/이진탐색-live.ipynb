{
 "cells": [
  {
   "cell_type": "markdown",
   "metadata": {},
   "source": [
    "## 탐색 알고리즘2: 이진 탐색 (Binary Search)"
   ]
  },
  {
   "cell_type": "markdown",
   "metadata": {},
   "source": [
    "### 1. 이진 탐색 (Binary Search) 이란?\n",
    "* 탐색할 자료를 둘로 나누어 해당 데이터가 있을만한 곳을 탐색하는 방법"
   ]
  },
  {
   "cell_type": "markdown",
   "metadata": {
    "solution2": "shown",
    "solution2_first": true
   },
   "source": [
    "### 다음 문제를 먼저 생각해보자\n",
    "<img src=\"https://www.fun-coding.org/00_Images/binarysearch.png\" />"
   ]
  },
  {
   "cell_type": "markdown",
   "metadata": {
    "solution2": "shown"
   },
   "source": [
    "### 이진 탐색의 이해 (순차 탐색과 비교하며 이해하기)\n",
    "\n",
    "<img src=\"https://www.mathwarehouse.com/programming/images/binary-vs-linear-search/binary-and-linear-search-animations.gif\">\n",
    "\n",
    "* [저작자] by penjee.com [이미지 출처](https://blog.penjee.com/binary-vs-linear-search-animated-gifs)\n"
   ]
  },
  {
   "cell_type": "markdown",
   "metadata": {},
   "source": [
    "### 2. 분할 정복 알고리즘과 이진 탐색\n",
    "- 분할 정복 알고리즘 (Divide and Conquer)\n",
    "  - Divide: 문제를 하나 또는 둘 이상으로 나눈다.\n",
    "  - Conquer: 나눠진 문제가 충분히 작고, 해결이 가능하다면 해결하고, 그렇지 않다면 다시 나눈다.\n",
    "- 이진 탐색\n",
    "  - Divide: 리스트를 두 개의 서브 리스트로 나눈다.\n",
    "  - Comquer\n",
    "    - 검색할 숫자 (search) > 중간값 이면, 뒷 부분의 서브 리스트에서 검색할 숫자를 찾는다.\n",
    "    - 검색할 숫자 (search) < 중간값 이면, 앞 부분의 서브 리스트에서 검색할 숫자를 찾는다.  "
   ]
  },
  {
   "cell_type": "markdown",
   "metadata": {
    "collapsed": true
   },
   "source": [
    "### 3. 어떻게 코드로 만들까?\n",
    "* 이진 탐색은 데이터가 정렬되있는 상태에서 진행\n",
    "* 데이터가 [2, 3, 8, 12, 20] 일 때,\n",
    "  - binary_search(data_list, find_data) 함수를 만들고\n",
    "    - find_data는 찾는 숫자\n",
    "    - data_list는 데이터 리스트\n",
    "    - data_list의 중간값을 find_data와 비교해서\n",
    "      - find_data < data_list의 중간값 이라면\n",
    "        - 맨 앞부터 data_list의 중간까지 에서 다시 find_data 찾기\n",
    "      - data_list의 중간값 < find_data 이라면\n",
    "        - data_list의 중간부터 맨 끝까지에서 다시 find_data 찾기\n",
    "      - 그렇지 않다면, data_list의 중간값은 find_data 인 경우로, return data_list 중간위치"
   ]
  },
  {
   "cell_type": "markdown",
   "metadata": {},
   "source": [
    "### 4. 알고리즘 구현"
   ]
  },
  {
   "cell_type": "code",
   "execution_count": null,
   "metadata": {},
   "outputs": [],
   "source": [
    "def binary_search(data, search):\n",
    "    print (data)\n",
    "    if len(data) == 1 and search == data[0]:\n",
    "        return True\n",
    "    if len(data) == 1 and search != data[0]:\n",
    "        return False\n",
    "    if len(data) == 0:\n",
    "        return False\n",
    "    \n",
    "    medium = len(data) // 2\n",
    "    if search == data[medium]:\n",
    "        return True\n",
    "    else:\n",
    "        if search > data[medium]:\n",
    "            return binary_search(data[medium+1:], search)\n",
    "        else:\n",
    "            return binary_search(data[:medium], search)"
   ]
  },
  {
   "cell_type": "code",
   "execution_count": null,
   "metadata": {},
   "outputs": [],
   "source": [
    "import random\n",
    "data_list = random.sample(range(100), 10)\n",
    "data_list"
   ]
  },
  {
   "cell_type": "code",
   "execution_count": null,
   "metadata": {},
   "outputs": [],
   "source": [
    "data_list.sort()"
   ]
  },
  {
   "cell_type": "code",
   "execution_count": null,
   "metadata": {},
   "outputs": [],
   "source": [
    "data_list"
   ]
  },
  {
   "cell_type": "code",
   "execution_count": null,
   "metadata": {},
   "outputs": [],
   "source": [
    "binary_search(data_list, 66)"
   ]
  },
  {
   "cell_type": "code",
   "execution_count": 1,
   "metadata": {},
   "outputs": [],
   "source": [
    "from typing import Any, Sequence\n",
    "\n",
    "def bin_search(a: Sequence, key: Any) -> int:\n",
    "    \"\"\"시퀀스 a에서 key와 일치하는 원소를 이진 검색\"\"\"\n",
    "    pl = 0           # 검색 범위 맨 앞 원소의 인덱스\n",
    "    pr = len(a) - 1  # 검색 범위 맨 끝 원소의 인덱스\n",
    "\n",
    "    while True:\n",
    "        pc = (pl + pr) // 2  # 중앙 원소의 인덱스\n",
    "        if a[pc] == key:\n",
    "            return pc    # 검색 성공\n",
    "        elif a[pc] < key:\n",
    "            pl = pc + 1  # 검색 범위를 뒤쪽의 절반으로 좁힘\n",
    "        else:\n",
    "            pr = pc - 1  # 검색 범위를 앞쪽의 절반으로 좁힘\n",
    "        if pl > pr:\n",
    "            break\n",
    "    return -1            # 검색 실패"
   ]
  },
  {
   "cell_type": "code",
   "execution_count": 2,
   "metadata": {},
   "outputs": [
    {
     "name": "stdout",
     "output_type": "stream",
     "text": [
      "원소 수를 입력하세요.: 7\n",
      "배열 데이터를 오름차순으로 입력하세요.\n",
      "x[0]: 1\n",
      "x[1]: 2\n",
      "x[2]: 3\n",
      "x[3]: 5\n",
      "x[4]: 7\n",
      "x[5]: 8\n",
      "x[6]: 9\n",
      "검색할 값을 입력하세요.: 5\n",
      "검색값은 x[3]에 있습니다.\n"
     ]
    }
   ],
   "source": [
    "num = int(input('원소 수를 입력하세요.: '))\n",
    "x = [None] * num  # 원소 수가 num인 배열을 생성\n",
    "\n",
    "print('배열 데이터를 오름차순으로 입력하세요.')\n",
    "\n",
    "x[0] = int(input('x[0]: '))\n",
    "\n",
    "for i in range(1, num):\n",
    "    while True:\n",
    "        x[i] = int(input(f'x[{i}]: '))\n",
    "        if x[i] >= x[i - 1]:\n",
    "             break\n",
    "\n",
    "ky = int(input('검색할 값을 입력하세요.: '))  # 검색할 ky를 입력\n",
    "\n",
    "idx = bin_search(x, ky)                     # ky와 같은 값의 원소를 x에서 검색\n",
    "\n",
    "if idx < 0:\n",
    "    print('검색값을 갖는 원소가 존재하지 않습니다.')\n",
    "else:\n",
    "    print(f'검색값은 x[{idx}]에 있습니다.')"
   ]
  },
  {
   "cell_type": "code",
   "execution_count": 3,
   "metadata": {},
   "outputs": [],
   "source": [
    "from typing import Any, Sequence\n",
    "\n",
    "def bin_search(a: Sequence, key: Any) -> int:\n",
    "    \"\"\"시퀀스 a에서 key와 일치하는 원소를 이진 검색(실행 과정을 출력)\"\"\"\n",
    "    pl = 0           # 검색 범위 맨 앞 원소의 인덱스\n",
    "    pr = len(a) - 1  # 검색 범위 맨 끝 원소의 인덱스\n",
    "\n",
    "    print('   |', end='')\n",
    "    for i in range(len(a)):\n",
    "        print(f'{i : 4}', end='')\n",
    "    print()\n",
    "    print('---+' + (4 * len(a) + 2) * '-')\n",
    "\n",
    "    while True:\n",
    "        pc = (pl + pr) // 2  # 중앙 원소의 인덱스\n",
    "\n",
    "        print('   |', end='')\n",
    "        if pl != pc:         # pl 원소 위에 <-를 출력\n",
    "            print((pl * 4 + 1) * ' ' + '<-' + ((pc - pl) * 4) * ' ' + '+', end='')\n",
    "        else: \n",
    "            print((pc * 4 + 1) * ' ' + '<+', end='')\n",
    "        if pc != pr:         # pr 원소 위에 ->를 출력\n",
    "            print(((pr - pc) * 4 - 2) * ' ' + '->')\n",
    "        else:\n",
    "            print('->')\n",
    "        print(f'{pc:3}|', end='')\n",
    "        for i in range(len(a)):\n",
    "            print(f'{a[i]:4}', end='') \n",
    "        print('\\n   |')\n",
    "\n",
    "        if a[pc] == key:\n",
    "            return pc    # 검색 성공\n",
    "        elif a[pc] < key:\n",
    "            pl = pc + 1  # 검색 범위를 뒤쪽의 절반으로 좁힘\n",
    "        else:\n",
    "            pr = pc - 1  # 검색 범위를 앞쪽의 절반으로 좁힘\n",
    "        if pl > pr:  \n",
    "            break\n",
    "    return -1            # 검색 실패"
   ]
  },
  {
   "cell_type": "code",
   "execution_count": 4,
   "metadata": {},
   "outputs": [
    {
     "name": "stdout",
     "output_type": "stream",
     "text": [
      "원소 수를 입력하세요.: 11\n",
      "배열 데이터를 오름차순으로 입력하세요.\n",
      "x[0]: 1\n",
      "x[1]: 2\n",
      "x[2]: 3\n",
      "x[3]: 4\n",
      "x[4]: 5\n",
      "x[5]: 6\n",
      "x[6]: 7\n",
      "x[7]: 8\n",
      "x[8]: 9\n",
      "x[9]: 10\n",
      "x[10]: 11\n",
      "검색할 값을 입력하세요.: 8\n",
      "   |   0   1   2   3   4   5   6   7   8   9  10\n",
      "---+----------------------------------------------\n",
      "   | <-                    +                  ->\n",
      "  5|   1   2   3   4   5   6   7   8   9  10  11\n",
      "   |\n",
      "   |                         <-        +      ->\n",
      "  8|   1   2   3   4   5   6   7   8   9  10  11\n",
      "   |\n",
      "   |                         <+  ->\n",
      "  6|   1   2   3   4   5   6   7   8   9  10  11\n",
      "   |\n",
      "   |                             <+->\n",
      "  7|   1   2   3   4   5   6   7   8   9  10  11\n",
      "   |\n",
      "검색값은 x[7]에 있습니다.\n"
     ]
    }
   ],
   "source": [
    "num = int(input('원소 수를 입력하세요.: '))\n",
    "x = [None] * num  # 원소 수가 num인 배열을 생성\n",
    "\n",
    "print('배열 데이터를 오름차순으로 입력하세요.')\n",
    "\n",
    "x[0] = int(input('x[0]: '))\n",
    "\n",
    "for i in range(1, num):\n",
    "    while True:\n",
    "        x[i] = int(input(f'x[{i}]: '))\n",
    "        if x[i] >= x[i - 1]:\n",
    "             break\n",
    "\n",
    "ky = int(input('검색할 값을 입력하세요.: '))  # 검색할 ky를 입력\n",
    "\n",
    "idx = bin_search(x, ky)                     # ky와 같은 값의 원소를 x에서 검색\n",
    "\n",
    "if idx == -1:\n",
    "    print('검색값을 갖는 원소가 존재하지 않습니다.')\n",
    "else:\n",
    "    print(f'검색값은 x[{idx}]에 있습니다.')"
   ]
  },
  {
   "cell_type": "markdown",
   "metadata": {},
   "source": [
    "### 5. 알고리즘 분석\n",
    "* n개의 리스트를 매번 2로 나누어 1이 될 때까지 비교연산을 k회 진행\n",
    "  - <font size=4em>n X $\\frac { 1 }{ 2 }$ X $\\frac { 1 }{ 2 }$ X $\\frac { 1 }{ 2 }$ ... = 1</font>\n",
    "  - <font size=4em>n X $\\frac { 1 }{ 2 }^k$ = 1</font>\n",
    "  - <font size=4em>n = $2^k$ = $log_2 n$ = $log_2 2^k$</font>\n",
    "  - <font size=4em>$log_2 n$ = k</font>\n",
    "  - 빅 오 표기법으로는 k + 1 이 결국 최종 시간 복잡도임 (1이 되었을 때도, 비교연산을 한번 수행)\n",
    "    - 결국 O($log_2 n$ + 1) 이고, 2와 1, 상수는 삭제 되므로, O($log n$)"
   ]
  },
  {
   "cell_type": "markdown",
   "metadata": {},
   "source": [
    "<div class=\"alert alert-block alert-warning\">\n",
    "<strong><font color=\"blue\" size=\"4em\">프로그래밍 연습</font></strong><br>\n",
    "다음 10000개의 데이터를 삽입 정렬, 퀵 정렬로 정렬하는 함수를 각각 만들어보고, 각각의 정렬 시간을 출력하기<br>\n",
    "</div>\n",
    "\n",
    "```python\n",
    "# 데이터 셋\n",
    "import random \n",
    "data_list = random.sample(range(100000), 10000)\n",
    "\n",
    "# 현재 시간 구하기\n",
    "import datetime\n",
    "print (datetime.datetime.now())\n",
    "```"
   ]
  },
  {
   "cell_type": "code",
   "execution_count": null,
   "metadata": {},
   "outputs": [],
   "source": []
  }
 ],
 "metadata": {
  "kernelspec": {
   "display_name": "Python 3 (ipykernel)",
   "language": "python",
   "name": "python3"
  },
  "language_info": {
   "codemirror_mode": {
    "name": "ipython",
    "version": 3
   },
   "file_extension": ".py",
   "mimetype": "text/x-python",
   "name": "python",
   "nbconvert_exporter": "python",
   "pygments_lexer": "ipython3",
   "version": "3.8.11"
  },
  "nbTranslate": {
   "displayLangs": [
    "*"
   ],
   "hotkey": "alt-t",
   "langInMainMenu": true,
   "sourceLang": "en",
   "targetLang": "fr",
   "useGoogleTranslate": true
  }
 },
 "nbformat": 4,
 "nbformat_minor": 1
}
