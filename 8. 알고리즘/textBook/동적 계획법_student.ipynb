{
 "cells": [
  {
   "cell_type": "markdown",
   "metadata": {},
   "source": [
    "### 실전 코딩 테스트 - 동적 계획법"
   ]
  },
  {
   "cell_type": "markdown",
   "metadata": {},
   "source": [
    "### 1. 연습 문제: https://www.acmicpc.net/problem/11726"
   ]
  },
  {
   "cell_type": "markdown",
   "metadata": {},
   "source": [
    "### 1 ~ 1000 까지 숫자 generation 해보기"
   ]
  },
  {
   "cell_type": "markdown",
   "metadata": {},
   "source": [
    "### 빈 리스트 만들기"
   ]
  },
  {
   "cell_type": "code",
   "execution_count": 1,
   "metadata": {},
   "outputs": [],
   "source": [
    "dp = [0] * 1001"
   ]
  },
  {
   "cell_type": "code",
   "execution_count": 3,
   "metadata": {},
   "outputs": [
    {
     "data": {
      "text/plain": [
       "0"
      ]
     },
     "execution_count": 3,
     "metadata": {},
     "output_type": "execute_result"
    }
   ],
   "source": [
    "dp[0]"
   ]
  },
  {
   "cell_type": "markdown",
   "metadata": {},
   "source": [
    "#### 구현 코드"
   ]
  },
  {
   "cell_type": "code",
   "execution_count": 5,
   "metadata": {},
   "outputs": [
    {
     "name": "stdout",
     "output_type": "stream",
     "text": [
      "2\n",
      "55\n"
     ]
    }
   ],
   "source": [
    "dp = [0] * 1001\n",
    "dp[1] = 1\n",
    "dp[2] = 2\n",
    "\n",
    "for index in range(3, 1001):\n",
    "    dp[index] = dp[index - 1] + dp[index - 2]\n",
    "print (dp[2] % 10007)\n",
    "print (dp[9] % 10007)"
   ]
  },
  {
   "cell_type": "markdown",
   "metadata": {},
   "source": [
    "#### 참고: 제출용 코드\n",
    "> 본 강의는 해당 사이트를 기반으로 하는 강의는 아니므로, 예제 입력에 따른 예제 출력이 정상적으로 되는지, 구현에 집중합니다"
   ]
  },
  {
   "cell_type": "code",
   "execution_count": null,
   "metadata": {},
   "outputs": [],
   "source": [
    "n = int(input())\n",
    "dp = [0] * 1001\n",
    "dp[1] = 1\n",
    "dp[2] = 2\n",
    "\n",
    "\n",
    "for index in range(3, 1001):\n",
    "    dp[index] = dp[index - 1] + dp[index - 2]\n",
    "print (dp[n] % 10007)"
   ]
  },
  {
   "cell_type": "markdown",
   "metadata": {},
   "source": [
    "> 일반적인 동적 계획법 문제는<br>\n",
    "> 통상 코드 자체는 간결하므로,\n",
    "> **가장 적은 경우의 수부터 계산을 해본 후, 패턴을 찾아,** 식(점화식)을 세우는 것이 핵심!"
   ]
  },
  {
   "cell_type": "markdown",
   "metadata": {},
   "source": [
    "### 2. 연습문제: https://www.acmicpc.net/problem/9461"
   ]
  },
  {
   "cell_type": "markdown",
   "metadata": {},
   "source": [
    "- 1, 1, 1, 2, 2, 3, 4, 5, 7, 9, 12, ...\n",
    "- 규칙 찾아보기: dp[ i + 3 ] = dp [ i ] + dp [ i + 1 ]"
   ]
  },
  {
   "cell_type": "code",
   "execution_count": 15,
   "metadata": {},
   "outputs": [
    {
     "name": "stdout",
     "output_type": "stream",
     "text": [
      "3\n",
      "16\n"
     ]
    }
   ],
   "source": [
    "dp = [0] * 101\n",
    "dp[1] = 1\n",
    "dp[2] = 1\n",
    "dp[3] = 1\n",
    "\n",
    "for index in range(0, 98):\n",
    "    dp[index + 3] = dp[index] + dp[index + 1]\n",
    "print (dp[6])\n",
    "print (dp[12])"
   ]
  },
  {
   "cell_type": "markdown",
   "metadata": {},
   "source": [
    "### 추가 참고 문제: 3. https://www.acmicpc.net/problem/1904"
   ]
  },
  {
   "cell_type": "markdown",
   "metadata": {},
   "source": [
    "- N = 1(1) : 1\n",
    "- N = 2(2) : 00 11\n",
    "- N = 3(3) : 100 001 111\n",
    "- N = 4(4) : 0000 1100 1001 0011 1111\n",
    "- N = n : (n - 2)00 (n - 1)1\n",
    "> 즉 dp[n] = dp[n - 2] + dp[n - 1]"
   ]
  },
  {
   "cell_type": "code",
   "execution_count": 11,
   "metadata": {},
   "outputs": [
    {
     "name": "stdout",
     "output_type": "stream",
     "text": [
      "5\n"
     ]
    }
   ],
   "source": [
    "n = 4\n",
    "dp = [0] * 1000001\n",
    "dp[1] = 1\n",
    "dp[2] = 2\n",
    "\n",
    "for index in range(3, n + 1):\n",
    "    dp[index] = ( dp[index - 1] + dp[index - 2] ) % 15746\n",
    "print(dp[n])"
   ]
  },
  {
   "cell_type": "markdown",
   "metadata": {},
   "source": [
    "<div class=\"alert alert-block\" style=\"border: 1px solid #455A64;background-color:#ECEFF1;padding:5px;font-size:0.9em;\">\n",
    "본 자료와 관련 영상 컨텐츠는 저작권법 제25조 2항에 의해 보호를 받습니다. <br>본 컨텐츠 및 컨텐츠 일부 문구 등을 외부에 공개하거나, 요약해서 게시하지 말아주세요.<br>\n",
    "    <a href='www.fun-coding.org'>잔재미코딩(www.fun-coding.org) Dave Lee</a>\n",
    "</div>"
   ]
  }
 ],
 "metadata": {
  "kernelspec": {
   "display_name": "Python 3 (ipykernel)",
   "language": "python",
   "name": "python3"
  },
  "language_info": {
   "codemirror_mode": {
    "name": "ipython",
    "version": 3
   },
   "file_extension": ".py",
   "mimetype": "text/x-python",
   "name": "python",
   "nbconvert_exporter": "python",
   "pygments_lexer": "ipython3",
   "version": "3.8.11"
  }
 },
 "nbformat": 4,
 "nbformat_minor": 4
}
