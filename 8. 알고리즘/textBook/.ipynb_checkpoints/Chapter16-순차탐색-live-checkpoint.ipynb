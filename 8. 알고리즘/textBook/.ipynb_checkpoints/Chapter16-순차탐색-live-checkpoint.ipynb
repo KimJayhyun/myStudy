{
 "cells": [
  {
   "cell_type": "markdown",
   "metadata": {},
   "source": [
    "## 탐색 알고리즘1: 순차 탐색 (Sequential Search)"
   ]
  },
  {
   "cell_type": "markdown",
   "metadata": {},
   "source": [
    "### 1. 순차 탐색 (Sequential Search) 이란?\n",
    "* 탐색은 여러 데이터 중에서 원하는 데이터를 찾아내는 것을 의미\n",
    "* 데이터가 담겨있는 리스트를 앞에서부터 하나씩 비교해서 원하는 데이터를 찾는 방법"
   ]
  },
  {
   "cell_type": "markdown",
   "metadata": {
    "solution2": "hidden",
    "solution2_first": true
   },
   "source": [
    "<div class=\"alert alert-block alert-warning\">\n",
    "<strong><font color=\"blue\" size=\"4em\">프로그래밍 연습</font></strong><br>\n",
    "임의 리스트가 다음과 같이 rand_data_list로 있을 때, 원하는 데이터의 위치를 리턴하는 순차탐색 알고리즘 작성해보기<br>\n",
    "- 가장 기본적인 방법이므로, 직접 작성해보겠습니다.\n",
    "- 원하는 데이터가 리스트에 없을 경우 -1을 리턴\n",
    "</div>\n",
    "<pre>\n",
    "# 데이터 준비: data_list 10개 만들기\n",
    "from random import *\n",
    " \n",
    "rand_data_list = list()\n",
    "for num in range(10):\n",
    "    rand_data_list.append(randint(1, 100))\n",
    "</pre>"
   ]
  },
  {
   "cell_type": "code",
   "execution_count": null,
   "metadata": {},
   "outputs": [],
   "source": [
    "from random import *\n",
    "\n",
    "rand_data_list = list()\n",
    "for num in range(10):\n",
    "    rand_data_list.append(randint(1, 100))"
   ]
  },
  {
   "cell_type": "code",
   "execution_count": null,
   "metadata": {},
   "outputs": [],
   "source": [
    "rand_data_list"
   ]
  },
  {
   "cell_type": "code",
   "execution_count": null,
   "metadata": {},
   "outputs": [],
   "source": [
    "def sequencial(data_list, search_data):\n",
    "    for index in range(len(data_list)):\n",
    "        if data_list[index] == search_data:\n",
    "            return index\n",
    "    return -1"
   ]
  },
  {
   "cell_type": "code",
   "execution_count": null,
   "metadata": {},
   "outputs": [],
   "source": [
    "sequencial(rand_data_list, 4)"
   ]
  },
  {
   "cell_type": "code",
   "execution_count": null,
   "metadata": {},
   "outputs": [],
   "source": [
    "# [Do it! 실습 3-1] while 문으로 작성한 선형 검색 알고리즘\n",
    "\n",
    "from typing import Any, Sequence\n",
    "\n",
    "def seq_search(a: Sequence, key: Any) -> int:\n",
    "    \"\"\"시퀀스 a에서 key값이 같은 원소를 선형 검색(while 문)\"\"\"\n",
    "    i = 0\n",
    "\n",
    "    while True:\n",
    "        if i == len(a):\n",
    "            return -1  # 검색에 실패하여 -1을 반환\n",
    "        if a[i] == key:\n",
    "            return i   # 검색에 성공하여 현재 조사한 배열의 인덱스를 반환\n",
    "        i += 1"
   ]
  },
  {
   "cell_type": "code",
   "execution_count": null,
   "metadata": {},
   "outputs": [],
   "source": [
    "num = int(input('원소 수를 입력하세요.: '))  # num 값을 입력\n",
    "x = [None] * num                           # 원소 수가 num인 배열을 생성\n",
    "\n",
    "for i in range(num):\n",
    "    x[i] = int(input(f'x[{i}]: '))\n",
    "\n",
    "ky = int(input('검색할 값을 입력하세요.: '))  # 검색할 키 ky를 입력받기\n",
    "\n",
    "idx = seq_search(x, ky)                     # ky와 같은 원소를 x에서 검색\n",
    "\n",
    "if idx == -1:\n",
    "    print('검색값을 갖는 원소가 존재하지 않습니다.')\n",
    "else:\n",
    "    print(f'검색값은 x[{idx}]에 있습니다.')"
   ]
  },
  {
   "cell_type": "code",
   "execution_count": null,
   "metadata": {},
   "outputs": [],
   "source": [
    "# [Do it! 실습 3-2] for 문으로 작성한 선형 검색 알고리즘\n",
    "\n",
    "from typing import Any, Sequence\n",
    "\n",
    "def seq_search(a: Sequence, key: Any) -> int:\n",
    "    \"\"\"시퀀스 a에서 key값이 같은 요소를 선형 검색(for 문)\"\"\"\n",
    "    for i in range(len(a)):\n",
    "        if a[i] == key:\n",
    "            return i  # 검색 성공(인덱스를 반환)\n",
    "    return -1         # 검색 실패(-1을 반환)"
   ]
  },
  {
   "cell_type": "code",
   "execution_count": null,
   "metadata": {},
   "outputs": [],
   "source": [
    "num = int(input('원소 수를 입력하세요.: '))  # num 값을 입력\n",
    "x = [None] * num                           # 원소 수가 num인 배열을 생성\n",
    "\n",
    "for i in range(num):\n",
    "    x[i] = int(input(f'x[{i}]: '))\n",
    "\n",
    "ky = int(input('검색할 값을 입력하세요.: '))  # 검색할 키 ky를 입력받음\n",
    "\n",
    "idx = seq_search(x, ky)                     # ky와 값이 같은 요소를 x에서 검색\n",
    "\n",
    "if idx == -1:\n",
    "    print('검색 값을 갖는 요소가 존재하지 않습니다.')\n",
    "else:\n",
    "    print(f'검색 값은 x[{idx}]에 있습니다.')"
   ]
  },
  {
   "cell_type": "code",
   "execution_count": null,
   "metadata": {},
   "outputs": [],
   "source": [
    "from typing import Any, Sequence\n",
    "import copy\n",
    "\n",
    "def seq_search(seq: Sequence, key: Any) -> int:\n",
    "    \"\"\"시퀀스 seq에서 key와 일치하는 원소를 선형 검색(보초법)\"\"\"\n",
    "    a = copy.deepcopy(seq)  # seq를 복사\n",
    "    a.append(key)           # 보초 key를 추가\n",
    " \n",
    "    i = 0\n",
    "    while True:\n",
    "        if a[i] == key: \n",
    "            break  # 검색에 성공하면 while 문을 종료\n",
    "        i += 1\n",
    "    return -1 if i == len(seq) else i"
   ]
  },
  {
   "cell_type": "code",
   "execution_count": null,
   "metadata": {},
   "outputs": [],
   "source": [
    "num = int(input('원소 수를 입력하세요.: '))  # num 값을 입력\n",
    "x = [None] * num                           # 원소 수가 num인 배열을 생성\n",
    "\n",
    "for i in range(num):\n",
    "    x[i] = int(input(f'x[{i}]: '))\n",
    "\n",
    "ky = int(input('검색할 값을 입력하세요.: '))  # 검색할 키 ky를 입력받기\n",
    "\n",
    "idx = seq_search(x, ky)                     # ky값과 같은 원소를 x에서 검색\n",
    "\n",
    "if idx == -1:\n",
    "     print('검색값을 갖는 원소가 존재하지 않습니다.')\n",
    "else:\n",
    "    print(f'검색값은 x[{idx}]에 있습니다.')"
   ]
  },
  {
   "cell_type": "code",
   "execution_count": null,
   "metadata": {},
   "outputs": [],
   "source": []
  },
  {
   "cell_type": "markdown",
   "metadata": {},
   "source": [
    "### 2. 알고리즘 분석\n",
    "* 최악의 경우 리스트 길이가 n일 때, n번 비교해야 함\n",
    "  - O(n)"
   ]
  }
 ],
 "metadata": {
  "kernelspec": {
   "display_name": "Python 3 (ipykernel)",
   "language": "python",
   "name": "python3"
  },
  "language_info": {
   "codemirror_mode": {
    "name": "ipython",
    "version": 3
   },
   "file_extension": ".py",
   "mimetype": "text/x-python",
   "name": "python",
   "nbconvert_exporter": "python",
   "pygments_lexer": "ipython3",
   "version": "3.8.11"
  },
  "nbTranslate": {
   "displayLangs": [
    "*"
   ],
   "hotkey": "alt-t",
   "langInMainMenu": true,
   "sourceLang": "en",
   "targetLang": "fr",
   "useGoogleTranslate": true
  }
 },
 "nbformat": 4,
 "nbformat_minor": 1
}
