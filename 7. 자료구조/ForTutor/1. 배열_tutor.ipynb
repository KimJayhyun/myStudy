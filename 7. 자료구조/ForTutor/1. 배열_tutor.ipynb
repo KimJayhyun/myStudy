{
 "cells": [
  {
   "cell_type": "markdown",
   "metadata": {
    "collapsed": true
   },
   "source": [
    "## 꼭 알아둬야 할 자료 구조: 배열 (Array)\n",
    "* 데이터를 나열하고, 각 데이터를 인덱스에 대응하도록 구성한 데이터 구조\n",
    "* 파이썬에서는 리스트 타입이 배열 기능을 제공함\n",
    "\n",
    "> 기본부터 철저하게 익히세요 [동기부여 영상](https://youtu.be/whFZCmN__mM)"
   ]
  },
  {
   "cell_type": "markdown",
   "metadata": {},
   "source": [
    "### 1. 배열은 왜 필요할까?\n",
    "- 같은 종류의 데이터를 효율적으로 관리하기 위해 사용\n",
    "- 같은 종류의 데이터를 순차적으로 저장\n",
    "- 장점: \n",
    "  - 빠른 접근 가능\n",
    "    - 첫 데이터의 위치에서 상대적인 위치로 데이터 접근(인덱스 번호로 접근)\n",
    "- 단점: \n",
    "  - 데이터 추가/삭제의 어려움\n",
    "    - 미리 최대 길이를 지정해야 함\n",
    "  \n",
    "> 엑셀로 이해해보기"
   ]
  },
  {
   "cell_type": "markdown",
   "metadata": {},
   "source": [
    "#### C 언어 예: 영어 단어 저장"
   ]
  },
  {
   "cell_type": "raw",
   "metadata": {},
   "source": [
    "#include <stdio.h>\n",
    "\n",
    "int main(int argc, char * argv[])\n",
    "{\n",
    "    char country[3] = \"US\";\n",
    "    printf (\"%c%c\\n\", country[0], country[1]);\n",
    "    printf (\"%s\\n\", country);    \n",
    "    return 0;\n",
    "}"
   ]
  },
  {
   "cell_type": "markdown",
   "metadata": {
    "collapsed": true
   },
   "source": [
    "#### 파이썬 언어 예: 영어 단어 저장"
   ]
  },
  {
   "cell_type": "code",
   "execution_count": 2,
   "metadata": {},
   "outputs": [
    {
     "name": "stdout",
     "output_type": "stream",
     "text": [
      "US\n"
     ]
    }
   ],
   "source": [
    "country = 'US'\n",
    "print (country)"
   ]
  },
  {
   "cell_type": "code",
   "execution_count": null,
   "metadata": {},
   "outputs": [],
   "source": [
    "print('학생 그룹 점수의 합계와 평균을 구합니다.')\n",
    "\n",
    "score1 = int(input('1번 학생의 점수를 입력하세요.: '))\n",
    "score2 = int(input('2번 학생의 점수를 입력하세요.: '))\n",
    "score3 = int(input('3번 학생의 점수를 입력하세요.: '))\n",
    "score4 = int(input('4번 학생의 점수를 입력하세요.: '))\n",
    "score5 = int(input('5번 학생의 점수를 입력하세요.: '))\n",
    "\n",
    "total = 0\n",
    "total += score1\n",
    "total += score2\n",
    "total += score3\n",
    "total += score4\n",
    "total += score5\n",
    "\n",
    "print(f'합계는 {total}점입니다.')\n",
    "print(f'평균은 {total / 5}점입니다.')"
   ]
  },
  {
   "cell_type": "markdown",
   "metadata": {},
   "source": [
    "### 2. 파이썬과 배열\n",
    "- 파이썬에서는 리스트로 배열 구현 가능"
   ]
  },
  {
   "cell_type": "code",
   "execution_count": 3,
   "metadata": {},
   "outputs": [
    {
     "data": {
      "text/plain": [
       "[1, 2, 3, 4, 5]"
      ]
     },
     "execution_count": 3,
     "metadata": {},
     "output_type": "execute_result"
    }
   ],
   "source": [
    "# 1차원 배열: 리스트로 구현시\n",
    "data_list = [1, 2, 3, 4, 5]\n",
    "data_list"
   ]
  },
  {
   "cell_type": "code",
   "execution_count": 2,
   "metadata": {},
   "outputs": [],
   "source": [
    "list01=[]\n",
    "list02=[1,2,3]\n",
    "list03=['A','B','C']\n",
    "list04=list()\n",
    "list05=list('ABC')\n",
    "list06=list([1,2,3])\n",
    "list07=list((1,2,3))\n",
    "list08=list({1,2,3})\n",
    "list09=list(range(7))\n",
    "list10=list(range(3,8))\n",
    "list11=list(range(3,13,2))"
   ]
  },
  {
   "cell_type": "code",
   "execution_count": 10,
   "metadata": {},
   "outputs": [
    {
     "data": {
      "text/plain": [
       "[[1, 2, 3], [4, 5, 6], [7, 8, 9]]"
      ]
     },
     "execution_count": 10,
     "metadata": {},
     "output_type": "execute_result"
    }
   ],
   "source": [
    "# 2차원 배열: 리스트로 구현시\n",
    "data_list = [[1, 2, 3], [4, 5, 6], [7, 8, 9]]\n",
    "data_list"
   ]
  },
  {
   "cell_type": "code",
   "execution_count": 22,
   "metadata": {},
   "outputs": [
    {
     "name": "stdout",
     "output_type": "stream",
     "text": [
      "[1, 2, 3]\n",
      "1\n",
      "2\n",
      "3\n",
      "4\n",
      "5\n"
     ]
    }
   ],
   "source": [
    "print (data_list[0])\n",
    "print (data_list[0][0])\n",
    "print (data_list[0][1])\n",
    "print (data_list[0][2])\n",
    "print (data_list[1][0])\n",
    "print (data_list[1][1])"
   ]
  },
  {
   "cell_type": "code",
   "execution_count": 24,
   "metadata": {},
   "outputs": [
    {
     "name": "stdout",
     "output_type": "stream",
     "text": [
      "x[0] = John\n",
      "x[1] = George\n",
      "x[2] = Paul\n",
      "x[3] = Ringo\n"
     ]
    }
   ],
   "source": [
    "x = ['John', 'George', 'Paul', 'Ringo']\n",
    "\n",
    "for i in range(len(x)):\n",
    "    print(f'x[{i}] = {x[i]}')"
   ]
  },
  {
   "cell_type": "code",
   "execution_count": 25,
   "metadata": {},
   "outputs": [
    {
     "name": "stdout",
     "output_type": "stream",
     "text": [
      "x[0] = John\n",
      "x[1] = George\n",
      "x[2] = Paul\n",
      "x[3] = Ringo\n"
     ]
    }
   ],
   "source": [
    "x = ['John', 'George', 'Paul', 'Ringo']\n",
    "\n",
    "for i, name in enumerate(x):\n",
    "    print(f'x[{i}] = {name}')"
   ]
  },
  {
   "cell_type": "code",
   "execution_count": 27,
   "metadata": {},
   "outputs": [
    {
     "name": "stdout",
     "output_type": "stream",
     "text": [
      "1번째 = John\n",
      "2번째 = George\n",
      "3번째 = Paul\n",
      "4번째 = Ringo\n"
     ]
    }
   ],
   "source": [
    "x = ['John', 'George', 'Paul', 'Ringo']\n",
    "\n",
    "for i, name in enumerate(x, 1):\n",
    "    print(f'{i}번째 = {name}')"
   ]
  },
  {
   "cell_type": "code",
   "execution_count": 28,
   "metadata": {},
   "outputs": [
    {
     "name": "stdout",
     "output_type": "stream",
     "text": [
      "John\n",
      "George\n",
      "Paul\n",
      "Ringo\n"
     ]
    }
   ],
   "source": [
    "x = ['John', 'George', 'Paul', 'Ringo']\n",
    "\n",
    "for i in x:\n",
    "    print(i)"
   ]
  },
  {
   "cell_type": "code",
   "execution_count": 5,
   "metadata": {},
   "outputs": [],
   "source": [
    "#튜플"
   ]
  },
  {
   "cell_type": "code",
   "execution_count": 29,
   "metadata": {},
   "outputs": [],
   "source": [
    "tuple01 = ()\n",
    "tuple02 = 1,\n",
    "tuple03 = (1,)\n",
    "tuple04 = 1, 2, 3\n",
    "tuple05 = 1, 2, 3,\n",
    "tuple06 = (1, 2, 3)\n",
    "tuple07 = (1, 2, 3,)\n",
    "tuple08 = 'A', 'B', 'C'\n",
    "tuple09 = tuple()\n",
    "tuple10 = tuple('ABC')\n",
    "tuple11 = tuple([1,2,3])\n",
    "tuple12 = tuple({1,2,3})\n",
    "tuple13 = tuple(range(7))\n",
    "tuple14 = tuple(range(3,8))\n",
    "tuple15 = tuple(range(3,13,2))"
   ]
  },
  {
   "cell_type": "code",
   "execution_count": 30,
   "metadata": {},
   "outputs": [
    {
     "name": "stdout",
     "output_type": "stream",
     "text": [
      "x[0] = John\n",
      "x[1] = George\n",
      "x[2] = Paul\n",
      "x[3] = Ringo\n"
     ]
    }
   ],
   "source": [
    "x = ('John', 'George', 'Paul', 'Ringo')\n",
    "\n",
    "for i in range(len(x)):\n",
    "    print(f'x[{i}] = {x[i]}')"
   ]
  },
  {
   "cell_type": "code",
   "execution_count": 31,
   "metadata": {},
   "outputs": [
    {
     "name": "stdout",
     "output_type": "stream",
     "text": [
      "x[0] = John\n",
      "x[1] = George\n",
      "x[2] = Paul\n",
      "x[3] = Ringo\n"
     ]
    }
   ],
   "source": [
    "x = ('John', 'George', 'Paul', 'Ringo')\n",
    "\n",
    "for i, name in enumerate(x):\n",
    "    print(f'x[{i}] = {name}')"
   ]
  },
  {
   "cell_type": "code",
   "execution_count": 32,
   "metadata": {},
   "outputs": [
    {
     "name": "stdout",
     "output_type": "stream",
     "text": [
      "1 번째 = John\n",
      "2 번째 = George\n",
      "3 번째 = Paul\n",
      "4 번째 = Ringo\n"
     ]
    }
   ],
   "source": [
    "x = ('John', 'George', 'Paul', 'Ringo')\n",
    "\n",
    "for i, name in enumerate(x, 1):\n",
    "    print(f'{i} 번째 = {name}')"
   ]
  },
  {
   "cell_type": "code",
   "execution_count": 33,
   "metadata": {},
   "outputs": [
    {
     "name": "stdout",
     "output_type": "stream",
     "text": [
      "John\n",
      "George\n",
      "Paul\n",
      "Ringo\n"
     ]
    }
   ],
   "source": [
    "x = ('John', 'George', 'Paul', 'Ringo')\n",
    "\n",
    "for i in x:\n",
    "    print(i)"
   ]
  },
  {
   "cell_type": "code",
   "execution_count": 8,
   "metadata": {},
   "outputs": [],
   "source": [
    "## 슬라이스식으로 원소에 접근하기"
   ]
  },
  {
   "cell_type": "code",
   "execution_count": 2,
   "metadata": {},
   "outputs": [
    {
     "data": {
      "text/plain": [
       "[11, 22, 33, 44, 55, 66]"
      ]
     },
     "execution_count": 2,
     "metadata": {},
     "output_type": "execute_result"
    }
   ],
   "source": [
    "s = [11, 22, 33, 44, 55, 66, 77, 88]\n",
    "s[0:6]\n"
   ]
  },
  {
   "cell_type": "code",
   "execution_count": 3,
   "metadata": {},
   "outputs": [
    {
     "data": {
      "text/plain": [
       "[11, 22, 33, 44, 55, 66, 77]"
      ]
     },
     "execution_count": 3,
     "metadata": {},
     "output_type": "execute_result"
    }
   ],
   "source": [
    "s[0:7]"
   ]
  },
  {
   "cell_type": "code",
   "execution_count": 4,
   "metadata": {
    "scrolled": true
   },
   "outputs": [
    {
     "data": {
      "text/plain": [
       "[11, 33, 55, 77]"
      ]
     },
     "execution_count": 4,
     "metadata": {},
     "output_type": "execute_result"
    }
   ],
   "source": [
    "s[0:7:2]"
   ]
  },
  {
   "cell_type": "code",
   "execution_count": 5,
   "metadata": {},
   "outputs": [
    {
     "data": {
      "text/plain": [
       "[55, 66]"
      ]
     },
     "execution_count": 5,
     "metadata": {},
     "output_type": "execute_result"
    }
   ],
   "source": [
    "s[-4:-2]"
   ]
  },
  {
   "cell_type": "code",
   "execution_count": 6,
   "metadata": {},
   "outputs": [
    {
     "data": {
      "text/plain": [
       "[]"
      ]
     },
     "execution_count": 6,
     "metadata": {},
     "output_type": "execute_result"
    }
   ],
   "source": [
    "s[3:1]"
   ]
  },
  {
   "cell_type": "code",
   "execution_count": 8,
   "metadata": {},
   "outputs": [
    {
     "data": {
      "text/plain": [
       "False"
      ]
     },
     "execution_count": 8,
     "metadata": {},
     "output_type": "execute_result"
    }
   ],
   "source": [
    "lst1 = [1,2,3,4,5]\n",
    "lst2 = [1,2,3,4,5]\n",
    "lst1 is lst2"
   ]
  },
  {
   "cell_type": "code",
   "execution_count": 10,
   "metadata": {},
   "outputs": [
    {
     "data": {
      "text/plain": [
       "True"
      ]
     },
     "execution_count": 10,
     "metadata": {},
     "output_type": "execute_result"
    }
   ],
   "source": [
    "lst2 = lst1\n",
    "lst1 is lst2"
   ]
  },
  {
   "cell_type": "code",
   "execution_count": 11,
   "metadata": {},
   "outputs": [
    {
     "data": {
      "text/plain": [
       "[1, 2, 3, 9, 5]"
      ]
     },
     "execution_count": 11,
     "metadata": {},
     "output_type": "execute_result"
    }
   ],
   "source": [
    "lst1[3]=9\n",
    "lst2"
   ]
  },
  {
   "cell_type": "markdown",
   "metadata": {},
   "source": [
    "### 3. 프로그래밍 연습 "
   ]
  },
  {
   "cell_type": "code",
   "execution_count": 20,
   "metadata": {
    "collapsed": true
   },
   "outputs": [],
   "source": [
    "dataset = ['Braund, Mr. Owen Harris',\n",
    "'Cumings, Mrs. John Bradley (Florence Briggs Thayer)',\n",
    "'Heikkinen, Miss. Laina',\n",
    "'Futrelle, Mrs. Jacques Heath (Lily May Peel)',\n",
    "'Allen, Mr. William Henry',\n",
    "'Moran, Mr. James',\n",
    "'McCarthy, Mr. Timothy J',\n",
    "'Palsson, Master. Gosta Leonard',\n",
    "'Johnson, Mrs. Oscar W (Elisabeth Vilhelmina Berg)',\n",
    "'Nasser, Mrs. Nicholas (Adele Achem)',\n",
    "'Sandstrom, Miss. Marguerite Rut',\n",
    "'Bonnell, Miss. Elizabeth',\n",
    "'Saundercock, Mr. William Henry',\n",
    "'Andersson, Mr. Anders Johan',\n",
    "'Vestrom, Miss. Hulda Amanda Adolfina',\n",
    "'Hewlett, Mrs. (Mary D Kingcome) ',\n",
    "'Rice, Master. Eugene',\n",
    "'Williams, Mr. Charles Eugene',\n",
    "'Vander Planke, Mrs. Julius (Emelia Maria Vandemoortele)',\n",
    "'Masselmani, Mrs. Fatima',\n",
    "'Fynney, Mr. Joseph J',\n",
    "'Beesley, Mr. Lawrence',\n",
    "'McGowan, Miss. Anna \"Annie\"',\n",
    "'Sloper, Mr. William Thompson',\n",
    "'Palsson, Miss. Torborg Danira',\n",
    "'Asplund, Mrs. Carl Oscar (Selma Augusta Emilia Johansson)',\n",
    "'Emir, Mr. Farred Chehab',\n",
    "'Fortune, Mr. Charles Alexander',\n",
    "'Dwyer, Miss. Ellen \"Nellie\"',\n",
    "'Todoroff, Mr. Lalio']"
   ]
  },
  {
   "cell_type": "markdown",
   "metadata": {
    "solution2": "hidden",
    "solution2_first": true
   },
   "source": [
    "<div class=\"alert alert-block alert-warning\">\n",
    "<strong><font color=\"blue\" size=\"3em\">연습1: 위의 dataset 리스트에서 전체 이름 안에 M 은 몇 번 나왔는지 빈도수 출력하기</font></div>"
   ]
  },
  {
   "cell_type": "code",
   "execution_count": 21,
   "metadata": {
    "solution2": "hidden"
   },
   "outputs": [
    {
     "name": "stdout",
     "output_type": "stream",
     "text": [
      "38\n"
     ]
    }
   ],
   "source": [
    "m_count = 0\n",
    "for data in dataset:\n",
    "    for index in range(len(data)):\n",
    "        if data[index] == 'M':\n",
    "            m_count += 1\n",
    "print (m_count)"
   ]
  },
  {
   "cell_type": "code",
   "execution_count": 12,
   "metadata": {},
   "outputs": [],
   "source": [
    "from typing import Any, Sequence\n",
    "\n",
    "def max_of(a: Sequence) -> Any:\n",
    "    \"\"\"시퀀스형 a 요소의 최댓값을 반환\"\"\"\n",
    "    maximum = a[0]\n",
    "    for i in range(1, len(a)):\n",
    "         if a[i] > maximum: \n",
    "            maximum = a[i]\n",
    "    return maximum"
   ]
  },
  {
   "cell_type": "code",
   "execution_count": 13,
   "metadata": {},
   "outputs": [
    {
     "name": "stdout",
     "output_type": "stream",
     "text": [
      "배열의 최댓값을 구합니다.\n",
      "최댓값은 3입니다.\n"
     ]
    }
   ],
   "source": [
    "print('배열의 최댓값을 구합니다.')\n",
    "num = int(input('원소 수를 입력하세요 : '))\n",
    "x = [None] * num    # 원소 수가 num인 리스트를 생성\n",
    "\n",
    "for i in range(num):\n",
    "    x[i] = int(input(f'x[{i}]를 입력하세요.: '))\n",
    "\n",
    "print(f'최댓값은 {max_of(x)}입니다.')"
   ]
  },
  {
   "cell_type": "code",
   "execution_count": 14,
   "metadata": {},
   "outputs": [
    {
     "name": "stdout",
     "output_type": "stream",
     "text": [
      "배열의 최댓값을 구합니다.\n",
      "주의: \"End\"를 입력하면 종료합니다.\n",
      "3개를 입력했습니다.\n",
      "최댓값은 3입니다.\n"
     ]
    }
   ],
   "source": [
    "print('배열의 최댓값을 구합니다.')\n",
    "print('주의: \"End\"를 입력하면 종료합니다.')\n",
    "\n",
    "number = 0\n",
    "x = []                  # 빈 리스트\n",
    "\n",
    "while True:\n",
    "    s = input(f'x[{number}]를 입력하세요.: ')\n",
    "    if s == 'End':\n",
    "        break\n",
    "    x.append(int(s))    # 배열의 끝에 추가\n",
    "    number += 1\n",
    "\n",
    "print(f'{number}개를 입력했습니다.')\n",
    "print(f'최댓값은 {max_of(x)}입니다.')"
   ]
  },
  {
   "cell_type": "code",
   "execution_count": 16,
   "metadata": {},
   "outputs": [
    {
     "name": "stdout",
     "output_type": "stream",
     "text": [
      "난수의 최댓값을 구합니다.\n",
      "[16, 40, 40, 26, 13]\n",
      "이 가운데 최댓값은 40입니다.\n"
     ]
    }
   ],
   "source": [
    "import random\n",
    "\n",
    "print('난수의 최댓값을 구합니다.')\n",
    "num = int(input('난수의 개수를 입력하세요.: '))\n",
    "lo = int(input('난수의 최솟값을 입력하세요.: '))\n",
    "hi = int(input('난수의 최댓값을 입력하세요.: '))\n",
    "x = [None] * num        # 원소 수 num인 리스트를 생성\n",
    "\n",
    "for i in range(num):\n",
    "    x[i] = random.randint(lo, hi)\n",
    "\n",
    "print(f'{(x)}')\n",
    "print(f'이 가운데 최댓값은 {max_of(x)}입니다.')"
   ]
  },
  {
   "cell_type": "code",
   "execution_count": 17,
   "metadata": {},
   "outputs": [],
   "source": [
    "from typing import Any, MutableSequence\n",
    "\n",
    "def reverse_array(a: MutableSequence) -> None:\n",
    "    \"\"\"뮤터블 시퀀스형 a의 원소를 역순으로 정렬\"\"\"\n",
    "    n = len(a)\n",
    "    for i in range(n // 2):\n",
    "         a[i], a[n - i - 1] = a[n - i - 1], a[i]"
   ]
  },
  {
   "cell_type": "code",
   "execution_count": 18,
   "metadata": {},
   "outputs": [
    {
     "name": "stdout",
     "output_type": "stream",
     "text": [
      "배열 원소를 역순으로 정렬합니다.\n",
      "배열 원소를 역순으로 정렬했습니다.\n",
      "x[0] = 5\n",
      "x[1] = 4\n",
      "x[2] = 3\n",
      "x[3] = 2\n",
      "x[4] = 1\n"
     ]
    }
   ],
   "source": [
    "print('배열 원소를 역순으로 정렬합니다.')\n",
    "nx = int(input('원소 수를 입력하세요.: '))\n",
    "x = [None] * nx   # 원소 수가 nx인 리스트를 생성\n",
    "\n",
    "for i in range(nx):\n",
    "    x[i] = int(input(f'x[{i}] : '))\n",
    "\n",
    "reverse_array(x)  # x를 역순으로 정렬\n",
    "\n",
    "print('배열 원소를 역순으로 정렬했습니다.')\n",
    "for i in range(nx):\n",
    "    print(f'x[{i}] = {x[i]}')"
   ]
  },
  {
   "cell_type": "code",
   "execution_count": 19,
   "metadata": {},
   "outputs": [
    {
     "name": "stdout",
     "output_type": "stream",
     "text": [
      "2\n",
      "3\n",
      "5\n",
      "7\n",
      "11\n",
      "13\n",
      "17\n",
      "19\n",
      "23\n",
      "29\n",
      "31\n",
      "37\n",
      "41\n",
      "43\n",
      "47\n",
      "53\n",
      "59\n",
      "61\n",
      "67\n",
      "71\n",
      "73\n",
      "79\n",
      "83\n",
      "89\n",
      "97\n",
      "101\n",
      "103\n",
      "107\n",
      "109\n",
      "113\n",
      "127\n",
      "131\n",
      "137\n",
      "139\n",
      "149\n",
      "151\n",
      "157\n",
      "163\n",
      "167\n",
      "173\n",
      "179\n",
      "181\n",
      "191\n",
      "193\n",
      "197\n",
      "199\n",
      "211\n",
      "223\n",
      "227\n",
      "229\n",
      "233\n",
      "239\n",
      "241\n",
      "251\n",
      "257\n",
      "263\n",
      "269\n",
      "271\n",
      "277\n",
      "281\n",
      "283\n",
      "293\n",
      "307\n",
      "311\n",
      "313\n",
      "317\n",
      "331\n",
      "337\n",
      "347\n",
      "349\n",
      "353\n",
      "359\n",
      "367\n",
      "373\n",
      "379\n",
      "383\n",
      "389\n",
      "397\n",
      "401\n",
      "409\n",
      "419\n",
      "421\n",
      "431\n",
      "433\n",
      "439\n",
      "443\n",
      "449\n",
      "457\n",
      "461\n",
      "463\n",
      "467\n",
      "479\n",
      "487\n",
      "491\n",
      "499\n",
      "503\n",
      "509\n",
      "521\n",
      "523\n",
      "541\n",
      "547\n",
      "557\n",
      "563\n",
      "569\n",
      "571\n",
      "577\n",
      "587\n",
      "593\n",
      "599\n",
      "601\n",
      "607\n",
      "613\n",
      "617\n",
      "619\n",
      "631\n",
      "641\n",
      "643\n",
      "647\n",
      "653\n",
      "659\n",
      "661\n",
      "673\n",
      "677\n",
      "683\n",
      "691\n",
      "701\n",
      "709\n",
      "719\n",
      "727\n",
      "733\n",
      "739\n",
      "743\n",
      "751\n",
      "757\n",
      "761\n",
      "769\n",
      "773\n",
      "787\n",
      "797\n",
      "809\n",
      "811\n",
      "821\n",
      "823\n",
      "827\n",
      "829\n",
      "839\n",
      "853\n",
      "857\n",
      "859\n",
      "863\n",
      "877\n",
      "881\n",
      "883\n",
      "887\n",
      "907\n",
      "911\n",
      "919\n",
      "929\n",
      "937\n",
      "941\n",
      "947\n",
      "953\n",
      "967\n",
      "971\n",
      "977\n",
      "983\n",
      "991\n",
      "997\n",
      "나눗셈을 실행한 횟수: 78022\n"
     ]
    }
   ],
   "source": [
    "counter = 0  # 나눗셈 횟수\n",
    "\n",
    "for n in range(2, 1001):\n",
    "    for i in range(2, n):\n",
    "        counter += 1\n",
    "        if n % i == 0 :     # 나누어 떨어지면 소수가 아님\n",
    "            break           # 반복은 더 이상 불필요하여 중단\n",
    "    else:                   # 끝까지 나누어 떨어지지 않으면 다음을 수행\n",
    "        print(n)\n",
    "print(f'나눗셈을 실행한 횟수: {counter}')"
   ]
  },
  {
   "cell_type": "code",
   "execution_count": 20,
   "metadata": {},
   "outputs": [
    {
     "name": "stdout",
     "output_type": "stream",
     "text": [
      "2\n",
      "3\n",
      "5\n",
      "7\n",
      "11\n",
      "13\n",
      "17\n",
      "19\n",
      "23\n",
      "29\n",
      "31\n",
      "37\n",
      "41\n",
      "43\n",
      "47\n",
      "53\n",
      "59\n",
      "61\n",
      "67\n",
      "71\n",
      "73\n",
      "79\n",
      "83\n",
      "89\n",
      "97\n",
      "101\n",
      "103\n",
      "107\n",
      "109\n",
      "113\n",
      "127\n",
      "131\n",
      "137\n",
      "139\n",
      "149\n",
      "151\n",
      "157\n",
      "163\n",
      "167\n",
      "173\n",
      "179\n",
      "181\n",
      "191\n",
      "193\n",
      "197\n",
      "199\n",
      "211\n",
      "223\n",
      "227\n",
      "229\n",
      "233\n",
      "239\n",
      "241\n",
      "251\n",
      "257\n",
      "263\n",
      "269\n",
      "271\n",
      "277\n",
      "281\n",
      "283\n",
      "293\n",
      "307\n",
      "311\n",
      "313\n",
      "317\n",
      "331\n",
      "337\n",
      "347\n",
      "349\n",
      "353\n",
      "359\n",
      "367\n",
      "373\n",
      "379\n",
      "383\n",
      "389\n",
      "397\n",
      "401\n",
      "409\n",
      "419\n",
      "421\n",
      "431\n",
      "433\n",
      "439\n",
      "443\n",
      "449\n",
      "457\n",
      "461\n",
      "463\n",
      "467\n",
      "479\n",
      "487\n",
      "491\n",
      "499\n",
      "503\n",
      "509\n",
      "521\n",
      "523\n",
      "541\n",
      "547\n",
      "557\n",
      "563\n",
      "569\n",
      "571\n",
      "577\n",
      "587\n",
      "593\n",
      "599\n",
      "601\n",
      "607\n",
      "613\n",
      "617\n",
      "619\n",
      "631\n",
      "641\n",
      "643\n",
      "647\n",
      "653\n",
      "659\n",
      "661\n",
      "673\n",
      "677\n",
      "683\n",
      "691\n",
      "701\n",
      "709\n",
      "719\n",
      "727\n",
      "733\n",
      "739\n",
      "743\n",
      "751\n",
      "757\n",
      "761\n",
      "769\n",
      "773\n",
      "787\n",
      "797\n",
      "809\n",
      "811\n",
      "821\n",
      "823\n",
      "827\n",
      "829\n",
      "839\n",
      "853\n",
      "857\n",
      "859\n",
      "863\n",
      "877\n",
      "881\n",
      "883\n",
      "887\n",
      "907\n",
      "911\n",
      "919\n",
      "929\n",
      "937\n",
      "941\n",
      "947\n",
      "953\n",
      "967\n",
      "971\n",
      "977\n",
      "983\n",
      "991\n",
      "997\n",
      "나눗셈을 실행한 횟수: 14622\n"
     ]
    }
   ],
   "source": [
    "counter = 0           # 나눗셈 횟수\n",
    "ptr = 0               # 이미 찾은 소수의 개수\n",
    "prime = [None] * 500  # 소수를 저장하는 배열\n",
    "\n",
    "prime[ptr] = 2        # 2는 소수이므로 초깃값으로 지정\n",
    "ptr += 1\n",
    "\n",
    "for n in range(3, 1001, 2):  # 홀수만을 대상으로 설정\n",
    "    for i in range(1, ptr):  # 이미 찾은 소수로 나눔\n",
    "        counter += 1\n",
    "        if n % prime[i] == 0:  # 나누어 떨어지면 소수가 아님\n",
    "            break              # 반복 중단\n",
    "    else:                      # 끝까지 나누어 떨어지지 않았다면\n",
    "        prime[ptr] = n         # 소수로 배열에 등록\n",
    "        ptr += 1\n",
    "\n",
    "for i in range(ptr):  # ptr의 소수를 출력\n",
    "    print(prime[i])\n",
    "print(f'나눗셈을 실행한 횟수: {counter}')"
   ]
  },
  {
   "cell_type": "code",
   "execution_count": null,
   "metadata": {},
   "outputs": [],
   "source": []
  }
 ],
 "metadata": {
  "celltoolbar": "Raw Cell Format",
  "interpreter": {
   "hash": "847088b58eed1933e24d19a34c1d341bd184cee880aa593a29788f90652386f4"
  },
  "kernelspec": {
   "display_name": "Python 3",
   "language": "python",
   "name": "python3"
  },
  "language_info": {
   "codemirror_mode": {
    "name": "ipython",
    "version": 3
   },
   "file_extension": ".py",
   "mimetype": "text/x-python",
   "name": "python",
   "nbconvert_exporter": "python",
   "pygments_lexer": "ipython3",
   "version": "3.8.8"
  },
  "nbTranslate": {
   "displayLangs": [
    "*"
   ],
   "hotkey": "alt-t",
   "langInMainMenu": true,
   "sourceLang": "en",
   "targetLang": "fr",
   "useGoogleTranslate": true
  }
 },
 "nbformat": 4,
 "nbformat_minor": 1
}
