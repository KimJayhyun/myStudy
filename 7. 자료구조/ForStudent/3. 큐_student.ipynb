{
 "cells": [
  {
   "cell_type": "markdown",
   "metadata": {},
   "source": [
    "## 대표적인 데이터 구조4: 큐 (Queue)"
   ]
  },
  {
   "cell_type": "markdown",
   "metadata": {},
   "source": [
    "## 대표적인 데이터 구조4: 큐 (Queue)\n",
    "\n",
    "### 1. 큐 구조\n",
    "* 줄을 서는 행위와 유사\n",
    "* 가장 먼저 넣은 데이터를 가장 먼저 꺼낼 수 있는 구조\n",
    "  - 음식점에서 가장 먼저 줄을 선 사람이 제일 먼저 음식점에 입장하는 것과 동일\n",
    "  - FIFO(First-In, First-Out) 또는 LILO(Last-In, Last-Out) 방식으로 스택과 꺼내는 순서가 반대\n",
    "  \n",
    "<img src=\"https://www.fun-coding.org/00_Images/queue.png\" />\n",
    "* 출처: http://www.stoimen.com/blog/2012/06/05/computer-algorithms-stack-and-queue-data-structure/\n",
    "\n",
    "> 엑셀로 이해해보기"
   ]
  },
  {
   "cell_type": "markdown",
   "metadata": {},
   "source": [
    "### 알아둘 용어\n",
    "- Enqueue : 큐에 데이터를 넣는 기능\n",
    "- Dequeue : 큐에 데이터를 꺼내는 기능"
   ]
  },
  {
   "cell_type": "markdown",
   "metadata": {},
   "source": [
    "### queue(파이썬 라이브러리)\n",
    "- 다양한 큐 구조로 Queue(), LifoQueue(), PriorityQueue() 제공\n",
    "- 프로그램에 적합한 자료 구조 사용"
   ]
  },
  {
   "cell_type": "markdown",
   "metadata": {},
   "source": [
    "1. Queue()"
   ]
  },
  {
   "cell_type": "code",
   "execution_count": 3,
   "metadata": {},
   "outputs": [
    {
     "name": "stdout",
     "output_type": "stream",
     "text": [
      "2\n",
      "fun_coding\n",
      "1\n",
      "1\n"
     ]
    }
   ],
   "source": [
    "import queue\n",
    "\n",
    "data_queue = queue.Queue()\n",
    "\n",
    "data_queue.put('fun_coding')\n",
    "data_queue.put(1)\n",
    "\n",
    "print(data_queue.qsize())\n",
    "print(data_queue.get())\n",
    "\n",
    "print(data_queue.qsize())\n",
    "print(data_queue.get())"
   ]
  },
  {
   "cell_type": "markdown",
   "metadata": {},
   "source": [
    "2. LifoQueue()"
   ]
  },
  {
   "cell_type": "code",
   "execution_count": 5,
   "metadata": {},
   "outputs": [
    {
     "name": "stdout",
     "output_type": "stream",
     "text": [
      "2\n",
      "1\n",
      "1\n",
      "fun_coding\n"
     ]
    }
   ],
   "source": [
    "import queue\n",
    "\n",
    "data_queue = queue.LifoQueue()\n",
    "\n",
    "data_queue.put('fun_coding')\n",
    "data_queue.put(1)\n",
    "\n",
    "print(data_queue.qsize())\n",
    "print(data_queue.get())\n",
    "\n",
    "print(data_queue.qsize())\n",
    "print(data_queue.get())"
   ]
  },
  {
   "cell_type": "markdown",
   "metadata": {},
   "source": [
    "3. PriorityQueue()"
   ]
  },
  {
   "cell_type": "code",
   "execution_count": 9,
   "metadata": {},
   "outputs": [
    {
     "name": "stdout",
     "output_type": "stream",
     "text": [
      "3\n",
      "(5, 1)\n",
      "2\n",
      "(10, 'Korea')\n",
      "1\n",
      "(15, 'America')\n"
     ]
    }
   ],
   "source": [
    "import queue\n",
    "\n",
    "data_queue = queue.PriorityQueue()\n",
    "\n",
    "data_queue.put((10, 'Korea'))\n",
    "data_queue.put((5, 1))\n",
    "data_queue.put((15, 'America'))\n",
    "\n",
    "print(data_queue.qsize())\n",
    "print(data_queue.get())\n",
    "\n",
    "print(data_queue.qsize())\n",
    "print(data_queue.get())\n",
    "\n",
    "print(data_queue.qsize())\n",
    "print(data_queue.get())"
   ]
  }
 ],
 "metadata": {
  "interpreter": {
   "hash": "b2743a7214b665167a978ac443e8f524f3eae06dc224bd6d80fc9637f55c00d6"
  },
  "kernelspec": {
   "display_name": "Python 3.9.12 ('dataStructure')",
   "language": "python",
   "name": "python3"
  },
  "language_info": {
   "codemirror_mode": {
    "name": "ipython",
    "version": 3
   },
   "file_extension": ".py",
   "mimetype": "text/x-python",
   "name": "python",
   "nbconvert_exporter": "python",
   "pygments_lexer": "ipython3",
   "version": "3.9.12"
  },
  "nbTranslate": {
   "displayLangs": [
    "*"
   ],
   "hotkey": "alt-t",
   "langInMainMenu": true,
   "sourceLang": "en",
   "targetLang": "fr",
   "useGoogleTranslate": true
  }
 },
 "nbformat": 4,
 "nbformat_minor": 1
}
